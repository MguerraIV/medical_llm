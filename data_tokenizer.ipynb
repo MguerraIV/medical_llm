{
 "cells": [
  {
   "cell_type": "markdown",
   "id": "e4c6d0b1",
   "metadata": {},
   "source": [
    "A ideia deste notebook é coletar a base final após toda a padronização e enriquecimento para iniciar o processo de preparação dos dados. Essa preparação envolve criar pares de caso-diagnóstico que serão tokenizados e utilizados para o treinamento do modelo LLM. Além disso, também pretendo coletar estudos clínicos e pesquisas sobre as doenças de modo a utilizar na contextualização do modelo."
   ]
  },
  {
   "cell_type": "code",
   "execution_count": null,
   "id": "f68383f6",
   "metadata": {},
   "outputs": [],
   "source": [
    "%pip uninstall torch torchvision torchaudio "
   ]
  },
  {
   "cell_type": "code",
   "execution_count": null,
   "id": "9e57a406",
   "metadata": {},
   "outputs": [
    {
     "name": "stdout",
     "output_type": "stream",
     "text": [
      "2.4.1+cpu\n",
      "CUDA disponível: False\n",
      "Versão do CUDA compatível com PyTorch: None\n",
      "Dispositivo CUDA: Nenhum\n"
     ]
    }
   ],
   "source": [
    "#Testando a configuração do pytorch para garantir o uso da GPU (Nvidia RTX 3050) no treinamento do modelo\n",
    "import torch\n",
    "print(torch.__version__)\n",
    "print(\"CUDA disponível:\", torch.cuda.is_available())\n",
    "print(\"Versão do CUDA compatível com PyTorch:\", torch.version.cuda)\n",
    "print(\"Dispositivo CUDA:\", torch.cuda.get_device_name(0) if torch.cuda.is_available() else \"Nenhum\")"
   ]
  },
  {
   "cell_type": "code",
   "execution_count": 1,
   "id": "0f93d180",
   "metadata": {},
   "outputs": [
    {
     "name": "stderr",
     "output_type": "stream",
     "text": [
      "c:\\Users\\mario\\.conda\\envs\\medical_llm\\lib\\site-packages\\tqdm\\auto.py:21: TqdmWarning: IProgress not found. Please update jupyter and ipywidgets. See https://ipywidgets.readthedocs.io/en/stable/user_install.html\n",
      "  from .autonotebook import tqdm as notebook_tqdm\n"
     ]
    }
   ],
   "source": [
    "import pandas as pd\n",
    "from datasets import Dataset\n",
    "from transformers import AutoTokenizer"
   ]
  },
  {
   "cell_type": "markdown",
   "id": "94cc2f72",
   "metadata": {},
   "source": [
    "# Processando o dataset"
   ]
  },
  {
   "cell_type": "code",
   "execution_count": null,
   "id": "f80ffe3b",
   "metadata": {},
   "outputs": [],
   "source": [
    "#importando dataset unido e padronizado\n",
    "merged_dataset = pd.read_csv(\"./datasets/merged_dataset.csv\")"
   ]
  },
  {
   "cell_type": "code",
   "execution_count": null,
   "id": "9a4c17bc",
   "metadata": {},
   "outputs": [
    {
     "data": {
      "text/html": [
       "<div>\n",
       "<style scoped>\n",
       "    .dataframe tbody tr th:only-of-type {\n",
       "        vertical-align: middle;\n",
       "    }\n",
       "\n",
       "    .dataframe tbody tr th {\n",
       "        vertical-align: top;\n",
       "    }\n",
       "\n",
       "    .dataframe thead th {\n",
       "        text-align: right;\n",
       "    }\n",
       "</style>\n",
       "<table border=\"1\" class=\"dataframe\">\n",
       "  <thead>\n",
       "    <tr style=\"text-align: right;\">\n",
       "      <th></th>\n",
       "      <th>diseases</th>\n",
       "      <th>abdomen acute</th>\n",
       "      <th>abdomen distended</th>\n",
       "      <th>abdominal bloating</th>\n",
       "      <th>abdominal colic</th>\n",
       "      <th>abdominal pain</th>\n",
       "      <th>abdominal tenderness</th>\n",
       "      <th>abnormal appearing skin</th>\n",
       "      <th>abnormal appearing tongue</th>\n",
       "      <th>abnormal breathing sounds</th>\n",
       "      <th>...</th>\n",
       "      <th>wrist pain</th>\n",
       "      <th>wrist stiffness or tightness</th>\n",
       "      <th>wrist swelling</th>\n",
       "      <th>wrist weakness</th>\n",
       "      <th>yellow color</th>\n",
       "      <th>yellow crust ooze</th>\n",
       "      <th>yellow sputum</th>\n",
       "      <th>yellowing of eyes</th>\n",
       "      <th>diseases_description</th>\n",
       "      <th>disease_risk_factors</th>\n",
       "    </tr>\n",
       "  </thead>\n",
       "  <tbody>\n",
       "    <tr>\n",
       "      <th>0</th>\n",
       "      <td>Panic Disorder</td>\n",
       "      <td>0</td>\n",
       "      <td>0</td>\n",
       "      <td>0</td>\n",
       "      <td>0</td>\n",
       "      <td>0</td>\n",
       "      <td>0</td>\n",
       "      <td>0</td>\n",
       "      <td>0</td>\n",
       "      <td>0</td>\n",
       "      <td>...</td>\n",
       "      <td>0</td>\n",
       "      <td>0</td>\n",
       "      <td>0</td>\n",
       "      <td>0</td>\n",
       "      <td>0</td>\n",
       "      <td>0</td>\n",
       "      <td>0</td>\n",
       "      <td>0</td>\n",
       "      <td>A type of anxiety disorder characterized by un...</td>\n",
       "      <td>Symptoms of panic disorder often start in the ...</td>\n",
       "    </tr>\n",
       "    <tr>\n",
       "      <th>1</th>\n",
       "      <td>Panic Disorder</td>\n",
       "      <td>0</td>\n",
       "      <td>0</td>\n",
       "      <td>0</td>\n",
       "      <td>0</td>\n",
       "      <td>0</td>\n",
       "      <td>0</td>\n",
       "      <td>0</td>\n",
       "      <td>0</td>\n",
       "      <td>0</td>\n",
       "      <td>...</td>\n",
       "      <td>0</td>\n",
       "      <td>0</td>\n",
       "      <td>0</td>\n",
       "      <td>0</td>\n",
       "      <td>0</td>\n",
       "      <td>0</td>\n",
       "      <td>0</td>\n",
       "      <td>0</td>\n",
       "      <td>A type of anxiety disorder characterized by un...</td>\n",
       "      <td>Symptoms of panic disorder often start in the ...</td>\n",
       "    </tr>\n",
       "    <tr>\n",
       "      <th>2</th>\n",
       "      <td>Panic Disorder</td>\n",
       "      <td>0</td>\n",
       "      <td>0</td>\n",
       "      <td>0</td>\n",
       "      <td>0</td>\n",
       "      <td>0</td>\n",
       "      <td>0</td>\n",
       "      <td>0</td>\n",
       "      <td>0</td>\n",
       "      <td>0</td>\n",
       "      <td>...</td>\n",
       "      <td>0</td>\n",
       "      <td>0</td>\n",
       "      <td>0</td>\n",
       "      <td>0</td>\n",
       "      <td>0</td>\n",
       "      <td>0</td>\n",
       "      <td>0</td>\n",
       "      <td>0</td>\n",
       "      <td>A type of anxiety disorder characterized by un...</td>\n",
       "      <td>Symptoms of panic disorder often start in the ...</td>\n",
       "    </tr>\n",
       "    <tr>\n",
       "      <th>3</th>\n",
       "      <td>Panic Disorder</td>\n",
       "      <td>0</td>\n",
       "      <td>0</td>\n",
       "      <td>0</td>\n",
       "      <td>0</td>\n",
       "      <td>0</td>\n",
       "      <td>0</td>\n",
       "      <td>0</td>\n",
       "      <td>0</td>\n",
       "      <td>0</td>\n",
       "      <td>...</td>\n",
       "      <td>0</td>\n",
       "      <td>0</td>\n",
       "      <td>0</td>\n",
       "      <td>0</td>\n",
       "      <td>0</td>\n",
       "      <td>0</td>\n",
       "      <td>0</td>\n",
       "      <td>0</td>\n",
       "      <td>A type of anxiety disorder characterized by un...</td>\n",
       "      <td>Symptoms of panic disorder often start in the ...</td>\n",
       "    </tr>\n",
       "    <tr>\n",
       "      <th>4</th>\n",
       "      <td>Panic Disorder</td>\n",
       "      <td>0</td>\n",
       "      <td>0</td>\n",
       "      <td>0</td>\n",
       "      <td>0</td>\n",
       "      <td>0</td>\n",
       "      <td>0</td>\n",
       "      <td>0</td>\n",
       "      <td>0</td>\n",
       "      <td>0</td>\n",
       "      <td>...</td>\n",
       "      <td>0</td>\n",
       "      <td>0</td>\n",
       "      <td>0</td>\n",
       "      <td>0</td>\n",
       "      <td>0</td>\n",
       "      <td>0</td>\n",
       "      <td>0</td>\n",
       "      <td>0</td>\n",
       "      <td>A type of anxiety disorder characterized by un...</td>\n",
       "      <td>Symptoms of panic disorder often start in the ...</td>\n",
       "    </tr>\n",
       "  </tbody>\n",
       "</table>\n",
       "<p>5 rows × 839 columns</p>\n",
       "</div>"
      ],
      "text/plain": [
       "         diseases  abdomen acute  abdomen distended  abdominal bloating  \\\n",
       "0  Panic Disorder              0                  0                   0   \n",
       "1  Panic Disorder              0                  0                   0   \n",
       "2  Panic Disorder              0                  0                   0   \n",
       "3  Panic Disorder              0                  0                   0   \n",
       "4  Panic Disorder              0                  0                   0   \n",
       "\n",
       "   abdominal colic  abdominal pain  abdominal tenderness  \\\n",
       "0                0               0                     0   \n",
       "1                0               0                     0   \n",
       "2                0               0                     0   \n",
       "3                0               0                     0   \n",
       "4                0               0                     0   \n",
       "\n",
       "   abnormal appearing skin  abnormal appearing tongue  \\\n",
       "0                        0                          0   \n",
       "1                        0                          0   \n",
       "2                        0                          0   \n",
       "3                        0                          0   \n",
       "4                        0                          0   \n",
       "\n",
       "   abnormal breathing sounds  ...  wrist pain  wrist stiffness or tightness  \\\n",
       "0                          0  ...           0                             0   \n",
       "1                          0  ...           0                             0   \n",
       "2                          0  ...           0                             0   \n",
       "3                          0  ...           0                             0   \n",
       "4                          0  ...           0                             0   \n",
       "\n",
       "   wrist swelling  wrist weakness  yellow color  yellow crust ooze  \\\n",
       "0               0               0             0                  0   \n",
       "1               0               0             0                  0   \n",
       "2               0               0             0                  0   \n",
       "3               0               0             0                  0   \n",
       "4               0               0             0                  0   \n",
       "\n",
       "   yellow sputum  yellowing of eyes  \\\n",
       "0              0                  0   \n",
       "1              0                  0   \n",
       "2              0                  0   \n",
       "3              0                  0   \n",
       "4              0                  0   \n",
       "\n",
       "                                diseases_description  \\\n",
       "0  A type of anxiety disorder characterized by un...   \n",
       "1  A type of anxiety disorder characterized by un...   \n",
       "2  A type of anxiety disorder characterized by un...   \n",
       "3  A type of anxiety disorder characterized by un...   \n",
       "4  A type of anxiety disorder characterized by un...   \n",
       "\n",
       "                                disease_risk_factors  \n",
       "0  Symptoms of panic disorder often start in the ...  \n",
       "1  Symptoms of panic disorder often start in the ...  \n",
       "2  Symptoms of panic disorder often start in the ...  \n",
       "3  Symptoms of panic disorder often start in the ...  \n",
       "4  Symptoms of panic disorder often start in the ...  \n",
       "\n",
       "[5 rows x 839 columns]"
      ]
     },
     "execution_count": 5,
     "metadata": {},
     "output_type": "execute_result"
    }
   ],
   "source": [
    "#visualizando o dataset\n",
    "merged_dataset.drop(columns=[\"Unnamed: 0\"], inplace=True)\n",
    "merged_dataset.head()"
   ]
  },
  {
   "cell_type": "markdown",
   "id": "a78a1d4f",
   "metadata": {},
   "source": [
    "> Com os dados já importados devidamente, é preciso processar o dataset para o processo de tokenização. A base será estruturada em pares de caso-diagnóstico, no caso serão descritos os sintomas daquela instância marcados como 1 e no diagnóstico estará a doença com sua devida descrição e fatores de rrisco."
   ]
  },
  {
   "cell_type": "code",
   "execution_count": 6,
   "id": "c7f2e55f",
   "metadata": {},
   "outputs": [],
   "source": [
    "#função para geração dos pares na base\n",
    "COLUNAS = merged_dataset.columns\n",
    "def gerar_pares(row):\n",
    "    # Geração do input com base nos sintomas marcados como 1\n",
    "    sintomas = [col.replace(\"_\", \" \") for col in COLUNAS if row[col] == 1]\n",
    "    input_text = f\"The pacient presents the following symptoms: {', '.join(sintomas)}.\"\n",
    "\n",
    "    # Geração do output com diagnóstico + descrição + fatores de risco\n",
    "    output_text = f'''\n",
    "        Diagnosis: {row['diseases']}.\\n\n",
    "        Description: {row['diseases_description']}.\\n\n",
    "        Risk factors: {row['disease_risk_factors']}.\n",
    "    '''\n",
    "    \n",
    "    return {\"input\": input_text, \"output\": output_text} #retorno do par gerado"
   ]
  },
  {
   "cell_type": "code",
   "execution_count": 19,
   "id": "1336ea33",
   "metadata": {},
   "outputs": [],
   "source": [
    "#agora é só ler a base e aplicar a geração dos pares\n",
    "caso_diagnostico = merged_dataset.apply(gerar_pares, axis=1).tolist()"
   ]
  },
  {
   "cell_type": "code",
   "execution_count": 21,
   "id": "326ef835",
   "metadata": {},
   "outputs": [
    {
     "data": {
      "text/plain": [
       "{'input': 'The pacient presents the following symptoms: anxiety and nervousness, breathing fast, chest tightness, depressive or psychotic symptoms, irregular heartbeat, palpitations, shortness of breath.',\n",
       " 'output': '\\n        Diagnosis: Panic Disorder.\\n\\n        Description: A type of anxiety disorder characterized by unexpected panic attacks that last minutes or, rarely, hours. Panic attacks begin with intense apprehension, fear or terror and, often, a feeling of impending doom. Symptoms experienced during a panic attack include dyspnea or sensations of being smothered; dizziness, loss of balance or faintness; choking sensations; palpitations or accelerated heart rate; shakiness; sweating; nausea or other form of abdominal distress; depersonalization or derealization; paresthesias; hot flashes or chills; chest discomfort or pain; fear of dying and fear of not being in control of oneself or going crazy. Agoraphobia may also develop. Similar to other anxiety disorders, it may be inherited as an autosomal dominant trait..\\n\\n        Risk factors: Symptoms of panic disorder often start in the late teens or early adulthood and affect more women than men. Factors that may increase the risk of developing panic attacks or panic disorder include: Family history of panic attacks or panic disorderMajor life stress, such as the death or serious illness of a loved oneA traumatic event, such as sexual assault or a serious accidentMajor changes in your life, such as a divorce or the addition of a babySmoking or excessive caffeine intakeHistory of childhood physical or sexual abuse.\\n    '}"
      ]
     },
     "execution_count": 21,
     "metadata": {},
     "output_type": "execute_result"
    }
   ],
   "source": [
    "#exemplo de par gerado a partir da base\n",
    "caso_diagnostico[0]"
   ]
  },
  {
   "cell_type": "markdown",
   "id": "aff13124",
   "metadata": {},
   "source": [
    "# Selecionando o modelo de LLM"
   ]
  },
  {
   "cell_type": "markdown",
   "id": "03148064",
   "metadata": {},
   "source": [
    "Para o modelo eu decidi utilizar o BioGPT que  é um modelo de linguagem desenvolvido pela Microsoft Research especificamente para tarefas biomédicas. Ele segue a arquitetura dos Transformers (GPT-style), mas foi treinado exclusivamente com textos biomédicos, como artigos do PubMed, abstracts científicos e literatura médica especializada. \n",
    "\n",
    "**Referência:** https://huggingface.co/microsoft/biogpt\n",
    "\n",
    "**Artigo de Referência:**\n",
    "\n",
    "LUO, Renqian et al. BioGPT: generative pre-trained transformer for biomedical text generation and mining. Briefings in Bioinformatics, [S.l.], v. 23, n. 6, set. 2022. Disponível em: https://doi.org/10.1093/bib/bbac409."
   ]
  },
  {
   "cell_type": "code",
   "execution_count": 11,
   "id": "3f5e91fe",
   "metadata": {},
   "outputs": [],
   "source": [
    "#código exemplo para a utilização do modelo BioGPT\n",
    "from transformers import pipeline, set_seed\n",
    "from transformers import BioGptTokenizer, BioGptForCausalLM\n",
    "model = BioGptForCausalLM.from_pretrained(\"microsoft/biogpt\") #instanciando o modelo\n",
    "tokenizer = BioGptTokenizer.from_pretrained(\"microsoft/biogpt\") #instanciando o tokenizer\n",
    "generator = pipeline('text-generation', model=model, tokenizer=tokenizer) #criando o gerador de texto\n",
    "set_seed(42) #configurando semente aleatória"
   ]
  },
  {
   "cell_type": "code",
   "execution_count": null,
   "id": "02b77630",
   "metadata": {},
   "outputs": [
    {
     "data": {
      "text/plain": [
       "[{'generated_text': 'Influenza is a respiratory infection caused by the influenza virus.'},\n",
       " {'generated_text': 'Influenza is a highly contagious respiratory disease, which causes severe illness of varying severity, with fatalities occurring'},\n",
       " {'generated_text': 'Influenza is still a worldwide public health problem.'},\n",
       " {'generated_text': 'Influenza is often severe in adults with the sequelae of pneumonia, prolonged viral shedding, and exacerbation of'},\n",
       " {'generated_text': 'Influenza is the main cause of seasonal epidemics of respiratory infection in both the hospital and community settings.'}]"
      ]
     },
     "execution_count": 13,
     "metadata": {},
     "output_type": "execute_result"
    }
   ],
   "source": [
    "#exemplo de como gerar o texto com o modelo\n",
    "generator(\"Influenza is\", max_length=20, num_return_sequences=5, do_sample=True, truncation=True)"
   ]
  },
  {
   "cell_type": "markdown",
   "id": "ee25b90b",
   "metadata": {},
   "source": [
    "# Tokenizando os dados"
   ]
  },
  {
   "cell_type": "markdown",
   "id": "51e31d81",
   "metadata": {},
   "source": [
    "Modelos de linguagem não entendem texto diretamente. Eles precisam do texto transformado em tokens numéricos. A tokenização converte os inputs e outputs em listas de números compreensíveis para o modelo. "
   ]
  },
  {
   "cell_type": "code",
   "execution_count": 22,
   "id": "104ccecc",
   "metadata": {},
   "outputs": [],
   "source": [
    "from datasets import Dataset"
   ]
  },
  {
   "cell_type": "code",
   "execution_count": null,
   "id": "dde1dd68",
   "metadata": {},
   "outputs": [
    {
     "name": "stdout",
     "output_type": "stream",
     "text": [
      "Dataset({\n",
      "    features: ['input', 'output'],\n",
      "    num_rows: 263609\n",
      "})\n"
     ]
    }
   ],
   "source": [
    "#cria dataset Hugging Face com os pares\n",
    "dataset = Dataset.from_list(caso_diagnostico)\n",
    "print(dataset) #dataset preparado\n",
    "\n",
    "#separando treino/validação\n",
    "dataset = dataset.train_test_split(test_size=0.15)\n",
    "train_dataset = dataset['train']\n",
    "eval_dataset = dataset['test']"
   ]
  },
  {
   "cell_type": "code",
   "execution_count": 24,
   "id": "eed40054",
   "metadata": {},
   "outputs": [
    {
     "name": "stderr",
     "output_type": "stream",
     "text": [
      "Map: 100%|██████████| 224067/224067 [06:22<00:00, 585.61 examples/s]\n",
      "Map: 100%|██████████| 39542/39542 [01:06<00:00, 597.65 examples/s]"
     ]
    },
    {
     "name": "stdout",
     "output_type": "stream",
     "text": [
      "Dataset({\n",
      "    features: ['input', 'output', 'input_ids', 'attention_mask'],\n",
      "    num_rows: 224067\n",
      "})\n"
     ]
    },
    {
     "name": "stderr",
     "output_type": "stream",
     "text": [
      "\n"
     ]
    }
   ],
   "source": [
    "#como o BioGPT é causal LM (autogerativo), vamos concatenar input + output e treinar o modelo para prever\n",
    "def tokenize_function(example): #função para tokenizar os dados antes do treinamento\n",
    "    prompt = example[\"input\"] + \"\\n\" + example[\"output\"]\n",
    "    return tokenizer(prompt, truncation=True, padding=\"max_length\", max_length=512)\n",
    "\n",
    "#dados tokenizados\n",
    "tokenized_train = train_dataset.map(tokenize_function)\n",
    "tokenized_eval = eval_dataset.map(tokenize_function)\n",
    "\n",
    "print(tokenized_train)"
   ]
  },
  {
   "cell_type": "markdown",
   "id": "919073ec",
   "metadata": {},
   "source": [
    "# Treinamento do Modelo"
   ]
  },
  {
   "cell_type": "code",
   "execution_count": 4,
   "id": "57b7619e",
   "metadata": {},
   "outputs": [
    {
     "name": "stdout",
     "output_type": "stream",
     "text": [
      "False\n"
     ]
    }
   ],
   "source": [
    "import torch\n",
    "print(torch.cuda.is_available())"
   ]
  },
  {
   "cell_type": "code",
   "execution_count": 2,
   "id": "064e1fa8",
   "metadata": {},
   "outputs": [
    {
     "name": "stderr",
     "output_type": "stream",
     "text": [
      "c:\\Users\\mario\\.conda\\envs\\medical_llm\\lib\\site-packages\\tqdm\\auto.py:21: TqdmWarning: IProgress not found. Please update jupyter and ipywidgets. See https://ipywidgets.readthedocs.io/en/stable/user_install.html\n",
      "  from .autonotebook import tqdm as notebook_tqdm\n",
      "c:\\Users\\mario\\.conda\\envs\\medical_llm\\lib\\site-packages\\transformers\\training_args.py:1568: FutureWarning: `evaluation_strategy` is deprecated and will be removed in version 4.46 of 🤗 Transformers. Use `eval_strategy` instead\n",
      "  warnings.warn(\n"
     ]
    },
    {
     "ename": "NameError",
     "evalue": "name 'tokenizer' is not defined",
     "output_type": "error",
     "traceback": [
      "\u001b[1;31m---------------------------------------------------------------------------\u001b[0m",
      "\u001b[1;31mNameError\u001b[0m                                 Traceback (most recent call last)",
      "Cell \u001b[1;32mIn[2], line 19\u001b[0m\n\u001b[0;32m      4\u001b[0m training_args \u001b[38;5;241m=\u001b[39m TrainingArguments(\n\u001b[0;32m      5\u001b[0m     output_dir\u001b[38;5;241m=\u001b[39m\u001b[38;5;124m\"\u001b[39m\u001b[38;5;124m./biogpt-finetuned\u001b[39m\u001b[38;5;124m\"\u001b[39m,\n\u001b[0;32m      6\u001b[0m     evaluation_strategy\u001b[38;5;241m=\u001b[39m\u001b[38;5;124m\"\u001b[39m\u001b[38;5;124mepoch\u001b[39m\u001b[38;5;124m\"\u001b[39m,\n\u001b[1;32m   (...)\u001b[0m\n\u001b[0;32m     14\u001b[0m     logging_steps\u001b[38;5;241m=\u001b[39m\u001b[38;5;241m10\u001b[39m,\n\u001b[0;32m     15\u001b[0m )\n\u001b[0;32m     17\u001b[0m \u001b[38;5;66;03m#como é causal LM, usamos esse collator\u001b[39;00m\n\u001b[0;32m     18\u001b[0m data_collator \u001b[38;5;241m=\u001b[39m DataCollatorForLanguageModeling(\n\u001b[1;32m---> 19\u001b[0m     tokenizer\u001b[38;5;241m=\u001b[39m\u001b[43mtokenizer\u001b[49m, mlm\u001b[38;5;241m=\u001b[39m\u001b[38;5;28;01mFalse\u001b[39;00m\n\u001b[0;32m     20\u001b[0m )\n\u001b[0;32m     22\u001b[0m trainer \u001b[38;5;241m=\u001b[39m Trainer(\n\u001b[0;32m     23\u001b[0m     model\u001b[38;5;241m=\u001b[39mmodel,\n\u001b[0;32m     24\u001b[0m     args\u001b[38;5;241m=\u001b[39mtraining_args,\n\u001b[1;32m   (...)\u001b[0m\n\u001b[0;32m     28\u001b[0m     data_collator\u001b[38;5;241m=\u001b[39mdata_collator,\n\u001b[0;32m     29\u001b[0m )\n",
      "\u001b[1;31mNameError\u001b[0m: name 'tokenizer' is not defined"
     ]
    }
   ],
   "source": [
    "#configurando os dados do treinamento\n",
    "from transformers import TrainingArguments, Trainer, DataCollatorForLanguageModeling\n",
    "\n",
    "training_args = TrainingArguments(\n",
    "    output_dir=\"./biogpt-finetuned\",\n",
    "    evaluation_strategy=\"epoch\",\n",
    "    learning_rate=5e-5,\n",
    "    per_device_train_batch_size=8,\n",
    "    per_device_eval_batch_size=8,\n",
    "    num_train_epochs=3,\n",
    "    weight_decay=0.01,\n",
    "    save_total_limit=2,\n",
    "    logging_dir='./logs',\n",
    "    logging_steps=10,\n",
    ")\n",
    "\n",
    "#como é causal LM, usamos esse collator\n",
    "data_collator = DataCollatorForLanguageModeling(\n",
    "    tokenizer=tokenizer, mlm=False\n",
    ")\n",
    "\n",
    "trainer = Trainer(\n",
    "    model=model,\n",
    "    args=training_args,\n",
    "    train_dataset=tokenized_train,\n",
    "    eval_dataset=tokenized_eval,\n",
    "    tokenizer=tokenizer,\n",
    "    data_collator=data_collator,\n",
    ")"
   ]
  },
  {
   "cell_type": "code",
   "execution_count": null,
   "id": "bc42a86d",
   "metadata": {},
   "outputs": [],
   "source": [
    "#agora que tudo já foi preparado, vamos realizar o treinamento do modelo\n",
    "trainer.train()"
   ]
  },
  {
   "cell_type": "code",
   "execution_count": null,
   "id": "2a8d51ed",
   "metadata": {},
   "outputs": [],
   "source": [
    "#salvando o modelo treinado\n",
    "trainer.save_model(\"biogpt-finetuned-symptom-diagnosis\")\n",
    "tokenizer.save_pretrained(\"biogpt-finetuned-symptom-diagnosis\")"
   ]
  },
  {
   "cell_type": "code",
   "execution_count": null,
   "id": "eafb917b",
   "metadata": {},
   "outputs": [],
   "source": [
    "#teste de inferência do modelo com fine-tuning\n",
    "generator = pipeline('text-generation', model=\"biogpt-finetuned-symptom-diagnosis\", tokenizer=tokenizer)\n",
    "generator(\"The pacient presents the following symptoms: fever, cough, fatigue.\", max_length=100)"
   ]
  }
 ],
 "metadata": {
  "kernelspec": {
   "display_name": "Python 3",
   "language": "python",
   "name": "python3"
  },
  "language_info": {
   "codemirror_mode": {
    "name": "ipython",
    "version": 3
   },
   "file_extension": ".py",
   "mimetype": "text/x-python",
   "name": "python",
   "nbconvert_exporter": "python",
   "pygments_lexer": "ipython3",
   "version": "3.8.20"
  }
 },
 "nbformat": 4,
 "nbformat_minor": 5
}
